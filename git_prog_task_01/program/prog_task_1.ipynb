{
 "cells": [
  {
   "cell_type": "markdown",
   "metadata": {},
   "source": [
    "# Regional Flash Flood in Germany (2021-07-14)"
   ]
  },
  {
   "cell_type": "markdown",
   "metadata": {},
   "source": [
    "### Determining the catchment areas for the rivers Rur, Erft, Ahr, Wupper and Ruhr:"
   ]
  },
  {
   "cell_type": "markdown",
   "metadata": {},
   "source": [
    "The dataset was downloaded and the measurements needed were added (all taken from their respective Wikipedia pages). The file was then read into a pandas dataframe, already setting the index as the river names."
   ]
  },
  {
   "cell_type": "code",
   "execution_count": 1,
   "metadata": {},
   "outputs": [],
   "source": [
    "import pandas as pd\n",
    "\n",
    "\n",
    "dataset_path = \"data/catchments.csv\"\n",
    "df = pd.read_csv(dataset_path, index_col=\"River\")"
   ]
  },
  {
   "cell_type": "markdown",
   "metadata": {},
   "source": [
    "After that, I proceeded to rename the columns as requested:"
   ]
  },
  {
   "cell_type": "code",
   "execution_count": 2,
   "metadata": {
    "scrolled": false
   },
   "outputs": [],
   "source": [
    "df = df.rename(index={\"River\": \"river\"}, columns={\" Length (km)\": \"length\", \" Area (km^2)\": \"area\"})"
   ]
  },
  {
   "cell_type": "markdown",
   "metadata": {},
   "source": [
    "Checking if everything worked properly:"
   ]
  },
  {
   "cell_type": "code",
   "execution_count": 3,
   "metadata": {
    "scrolled": true
   },
   "outputs": [
    {
     "data": {
      "text/html": [
       "<div>\n",
       "<style scoped>\n",
       "    .dataframe tbody tr th:only-of-type {\n",
       "        vertical-align: middle;\n",
       "    }\n",
       "\n",
       "    .dataframe tbody tr th {\n",
       "        vertical-align: top;\n",
       "    }\n",
       "\n",
       "    .dataframe thead th {\n",
       "        text-align: right;\n",
       "    }\n",
       "</style>\n",
       "<table border=\"1\" class=\"dataframe\">\n",
       "  <thead>\n",
       "    <tr style=\"text-align: right;\">\n",
       "      <th></th>\n",
       "      <th>length</th>\n",
       "      <th>area</th>\n",
       "    </tr>\n",
       "    <tr>\n",
       "      <th>River</th>\n",
       "      <th></th>\n",
       "      <th></th>\n",
       "    </tr>\n",
       "  </thead>\n",
       "  <tbody>\n",
       "    <tr>\n",
       "      <th>Rur</th>\n",
       "      <td>164.5</td>\n",
       "      <td>2361.000</td>\n",
       "    </tr>\n",
       "    <tr>\n",
       "      <th>Erft</th>\n",
       "      <td>106.6</td>\n",
       "      <td>1837.915</td>\n",
       "    </tr>\n",
       "    <tr>\n",
       "      <th>Ahr</th>\n",
       "      <td>89.0</td>\n",
       "      <td>900.000</td>\n",
       "    </tr>\n",
       "    <tr>\n",
       "      <th>Wupper</th>\n",
       "      <td>115.8</td>\n",
       "      <td>813.000</td>\n",
       "    </tr>\n",
       "    <tr>\n",
       "      <th>Ruhr</th>\n",
       "      <td>219.2</td>\n",
       "      <td>4485.000</td>\n",
       "    </tr>\n",
       "  </tbody>\n",
       "</table>\n",
       "</div>"
      ],
      "text/plain": [
       "        length      area\n",
       "River                   \n",
       "Rur      164.5  2361.000\n",
       "Erft     106.6  1837.915\n",
       "Ahr       89.0   900.000\n",
       "Wupper   115.8   813.000\n",
       "Ruhr     219.2  4485.000"
      ]
     },
     "execution_count": 3,
     "metadata": {},
     "output_type": "execute_result"
    }
   ],
   "source": [
    "df.head()"
   ]
  },
  {
   "cell_type": "markdown",
   "metadata": {},
   "source": [
    "Now it's time to plot the graphs for area and length of all five rivers:"
   ]
  },
  {
   "cell_type": "code",
   "execution_count": 6,
   "metadata": {},
   "outputs": [
    {
     "data": {
      "text/plain": [
       "Text(0, 0.5, 'Area in $m^2$')"
      ]
     },
     "execution_count": 6,
     "metadata": {},
     "output_type": "execute_result"
    },
    {
     "data": {
      "image/png": "[encoded data removed]",
      "text/plain": [
       "<Figure size 1152x576 with 2 Axes>"
      ]
     },
     "metadata": {
      "needs_background": "light"
     },
     "output_type": "display_data"
    }
   ],
   "source": [
    "import matplotlib.pyplot as plt\n",
    "\n",
    "\n",
    "fig1, (ax1, ax2) = plt.subplots(1, 2, figsize=(16, 8))\n",
    "ax1.set_title(\"Catchment Length of each River\")\n",
    "ax1.set_xlabel(\"River Names\")\n",
    "ax1.set_ylabel(\"Length in m\")\n",
    "ax1.bar(x=df.index, height=df['length'], color=\"red\")\n",
    "\n",
    "ax2.bar(x=df.index, height=df['area'], color=\"blue\")\n",
    "ax2.set_title(\"Catchment Area of each River\")\n",
    "ax2.set_xlabel(\"River Names\")\n",
    "ax2.set_ylabel(\"Area in $m^2$\")\n"
   ]
  },
  {
   "cell_type": "code",
   "execution_count": null,
   "metadata": {},
   "outputs": [],
   "source": []
  },
  {
   "cell_type": "markdown",
   "metadata": {},
   "source": [
    "### Determining the cumulative precipitation at some weather stations in the five catchments"
   ]
  },
  {
   "cell_type": "markdown",
   "metadata": {},
   "source": [
    "To begin the analysis, data from five weather stations in the five relevant river catchments was taken from the DWD website. The stations analysed were 3499, 3591, 5717, 4219 and 7378. The downloaded data was then loaded separately into dataframes."
   ]
  },
  {
   "cell_type": "markdown",
   "metadata": {},
   "source": [
    "The interval from July 12th to July 15th  catches the rain event in all five stations."
   ]
  },
  {
   "cell_type": "code",
   "execution_count": 7,
   "metadata": {},
   "outputs": [],
   "source": [
    "date_from = pd.to_datetime(\"2021-07-12T12:00:00UTC\")\n",
    "date_to = pd.to_datetime(\"2021-07-15T12:00:00UTC\")"
   ]
  },
  {
   "cell_type": "markdown",
   "metadata": {},
   "source": [
    "This next function is used to normalize the values in the index and the names of the columns. It was taken from the assignment page."
   ]
  },
  {
   "cell_type": "code",
   "execution_count": 9,
   "metadata": {},
   "outputs": [],
   "source": [
    "def prec_ts_to_df(filename):\n",
    "    from datetime import datetime\n",
    "    \n",
    "    dateparse = lambda dates: [datetime.strptime(str(d), '%Y%m%d%H') for d in dates]\n",
    "\n",
    "    df = pd.read_csv(filename, delimiter=\";\", encoding=\"cp1252\", \n",
    "                     index_col=\"MESS_DATUM\", parse_dates = [\"MESS_DATUM\"], date_parser = dateparse, \n",
    "                     na_values = [-999.0, -999])\n",
    "\n",
    "    # Column headers: remove leading blanks (strip), replace \" \" with \"_\", and convert to lower case.\n",
    "    \n",
    "    df.columns = df.columns.str.strip().str.lower().str.replace(' ', '_').str.replace('(', '').str.replace(')', '')\n",
    "    df.index.name = df.index.name.strip().lower().replace(' ', '_').replace('(', '').replace(')', '')\n",
    "    # Add time zone: convert from tz naive datetime to tz aware datetime.\n",
    "    df.index = df.index.tz_localize(tz ='UTC')\n",
    "    return(df)\n"
   ]
  },
  {
   "cell_type": "markdown",
   "metadata": {},
   "source": [
    "**Station 3499**"
   ]
  },
  {
   "cell_type": "code",
   "execution_count": 19,
   "metadata": {},
   "outputs": [],
   "source": [
    "path_3499 = r\"./data/DWD/stundenwerte_RR_03499_akt/\"\n",
    "filename_3499 = r\"produkt_rr_stunde_20200222_20210824_03499.txt\"\n",
    "pfname_3499 = path_3499 + filename_3499\n",
    "df_3499 = prec_ts_to_df(pfname_3499)\n",
    "idx_3499 = (df_3499.index >= date_from) & (df_3499.index <= date_to)"
   ]
  },
  {
   "cell_type": "markdown",
   "metadata": {},
   "source": [
    "**Station 3591**"
   ]
  },
  {
   "cell_type": "code",
   "execution_count": 20,
   "metadata": {},
   "outputs": [],
   "source": [
    "path_3591 = r\"./data/DWD/stundenwerte_RR_03591_akt/\"\n",
    "filename_3591 = r\"produkt_rr_stunde_20200222_20210824_03591.txt\"\n",
    "pfname_3591 = path_3591 + filename_3591\n",
    "df_3591 = prec_ts_to_df(pfname_3591)\n",
    "idx_3591 = (df_3591.index >= date_from) & (df_3591.index <= date_to)"
   ]
  },
  {
   "cell_type": "markdown",
   "metadata": {},
   "source": [
    "**Station 4219**"
   ]
  },
  {
   "cell_type": "code",
   "execution_count": 21,
   "metadata": {},
   "outputs": [],
   "source": [
    "path_4219 = r\"./data/DWD/stundenwerte_RR_04219_akt/\"\n",
    "filename_4219 = r\"produkt_rr_stunde_20200222_20210824_04219.txt\"\n",
    "pfname_4219 = path_4219 + filename_4219\n",
    "df_4219 = prec_ts_to_df(pfname_4219)\n",
    "idx_4219 = (df_4219.index >= date_from) & (df_4219.index <= date_to)"
   ]
  },
  {
   "cell_type": "markdown",
   "metadata": {},
   "source": [
    "**Station 5717**"
   ]
  },
  {
   "cell_type": "code",
   "execution_count": 22,
   "metadata": {},
   "outputs": [],
   "source": [
    "path_5717 = r\"./data/DWD/stundenwerte_RR_05717_akt/\"\n",
    "filename_5717 = r\"produkt_rr_stunde_20200223_20210825_05717.txt\"\n",
    "pfname_5717 = path_5717 + filename_5717\n",
    "df_5717 = prec_ts_to_df(pfname_5717)\n",
    "idx_5717 = (df_5717.index >= date_from) & (df_5717.index <= date_to)"
   ]
  },
  {
   "cell_type": "markdown",
   "metadata": {},
   "source": [
    "**Station 7378**"
   ]
  },
  {
   "cell_type": "code",
   "execution_count": 23,
   "metadata": {},
   "outputs": [],
   "source": [
    "path_7378 = r\"./data/DWD/stundenwerte_RR_07378_akt/\"\n",
    "filename_7378 = r\"produkt_rr_stunde_20200222_20210824_07378.txt\"\n",
    "pfname_7378 = path_7378 + filename_7378\n",
    "df_7378 = prec_ts_to_df(pfname_7378)\n",
    "idx_7378 = (df_7378.index >= date_from) & (df_7378.index <= date_to)"
   ]
  },
  {
   "cell_type": "markdown",
   "metadata": {},
   "source": [
    "Now, to extract the desired data from the dataframes:"
   ]
  },
  {
   "cell_type": "code",
   "execution_count": 24,
   "metadata": {},
   "outputs": [],
   "source": [
    "df_r1_3499 = df_3499[['r1']].rename(columns={'r1' : '3499'})\n",
    "df_r1_3591 = df_3591[['r1']].rename(columns={'r1' : '3591'})\n",
    "df_r1_5717 = df_5717[['r1']].rename(columns={'r1' : '5717'})\n",
    "df_r1_4219 = df_4219[['r1']].rename(columns={'r1' : '4219'})\n",
    "df_r1_7378 = df_7378[['r1']].rename(columns={'r1' : '7378'})"
   ]
  },
  {
   "cell_type": "markdown",
   "metadata": {},
   "source": [
    "Checking if the dataframes are correct:"
   ]
  },
  {
   "cell_type": "code",
   "execution_count": 25,
   "metadata": {},
   "outputs": [
    {
     "data": {
      "text/html": [
       "<div>\n",
       "<style scoped>\n",
       "    .dataframe tbody tr th:only-of-type {\n",
       "        vertical-align: middle;\n",
       "    }\n",
       "\n",
       "    .dataframe tbody tr th {\n",
       "        vertical-align: top;\n",
       "    }\n",
       "\n",
       "    .dataframe thead th {\n",
       "        text-align: right;\n",
       "    }\n",
       "</style>\n",
       "<table border=\"1\" class=\"dataframe\">\n",
       "  <thead>\n",
       "    <tr style=\"text-align: right;\">\n",
       "      <th></th>\n",
       "      <th>3499</th>\n",
       "    </tr>\n",
       "    <tr>\n",
       "      <th>mess_datum</th>\n",
       "      <th></th>\n",
       "    </tr>\n",
       "  </thead>\n",
       "  <tbody>\n",
       "    <tr>\n",
       "      <th>2020-02-22 00:00:00+00:00</th>\n",
       "      <td>0.0</td>\n",
       "    </tr>\n",
       "    <tr>\n",
       "      <th>2020-02-22 01:00:00+00:00</th>\n",
       "      <td>0.0</td>\n",
       "    </tr>\n",
       "    <tr>\n",
       "      <th>2020-02-22 02:00:00+00:00</th>\n",
       "      <td>0.0</td>\n",
       "    </tr>\n",
       "    <tr>\n",
       "      <th>2020-02-22 03:00:00+00:00</th>\n",
       "      <td>0.0</td>\n",
       "    </tr>\n",
       "    <tr>\n",
       "      <th>2020-02-22 04:00:00+00:00</th>\n",
       "      <td>0.0</td>\n",
       "    </tr>\n",
       "  </tbody>\n",
       "</table>\n",
       "</div>"
      ],
      "text/plain": [
       "                           3499\n",
       "mess_datum                     \n",
       "2020-02-22 00:00:00+00:00   0.0\n",
       "2020-02-22 01:00:00+00:00   0.0\n",
       "2020-02-22 02:00:00+00:00   0.0\n",
       "2020-02-22 03:00:00+00:00   0.0\n",
       "2020-02-22 04:00:00+00:00   0.0"
      ]
     },
     "execution_count": 25,
     "metadata": {},
     "output_type": "execute_result"
    }
   ],
   "source": [
    "df_r1_3499.head()"
   ]
  },
  {
   "cell_type": "markdown",
   "metadata": {},
   "source": [
    "#### 1."
   ]
  },
  {
   "cell_type": "markdown",
   "metadata": {},
   "source": [
    "Adding the selected stations to the .csv file and re-reading it:"
   ]
  },
  {
   "cell_type": "code",
   "execution_count": 54,
   "metadata": {
    "scrolled": true
   },
   "outputs": [
    {
     "data": {
      "text/html": [
       "<div>\n",
       "<style scoped>\n",
       "    .dataframe tbody tr th:only-of-type {\n",
       "        vertical-align: middle;\n",
       "    }\n",
       "\n",
       "    .dataframe tbody tr th {\n",
       "        vertical-align: top;\n",
       "    }\n",
       "\n",
       "    .dataframe thead th {\n",
       "        text-align: right;\n",
       "    }\n",
       "</style>\n",
       "<table border=\"1\" class=\"dataframe\">\n",
       "  <thead>\n",
       "    <tr style=\"text-align: right;\">\n",
       "      <th></th>\n",
       "      <th>length</th>\n",
       "      <th>area</th>\n",
       "      <th>station_id</th>\n",
       "    </tr>\n",
       "    <tr>\n",
       "      <th>river</th>\n",
       "      <th></th>\n",
       "      <th></th>\n",
       "      <th></th>\n",
       "    </tr>\n",
       "  </thead>\n",
       "  <tbody>\n",
       "    <tr>\n",
       "      <th>Rur</th>\n",
       "      <td>164.5</td>\n",
       "      <td>2361.000</td>\n",
       "      <td>3591</td>\n",
       "    </tr>\n",
       "    <tr>\n",
       "      <th>Erft</th>\n",
       "      <td>106.6</td>\n",
       "      <td>1837.915</td>\n",
       "      <td>7378</td>\n",
       "    </tr>\n",
       "    <tr>\n",
       "      <th>Ahr</th>\n",
       "      <td>89.0</td>\n",
       "      <td>900.000</td>\n",
       "      <td>4219</td>\n",
       "    </tr>\n",
       "    <tr>\n",
       "      <th>Wupper</th>\n",
       "      <td>115.8</td>\n",
       "      <td>813.000</td>\n",
       "      <td>5717</td>\n",
       "    </tr>\n",
       "    <tr>\n",
       "      <th>Ruhr</th>\n",
       "      <td>219.2</td>\n",
       "      <td>4485.000</td>\n",
       "      <td>3499</td>\n",
       "    </tr>\n",
       "  </tbody>\n",
       "</table>\n",
       "</div>"
      ],
      "text/plain": [
       "        length      area  station_id\n",
       "river                               \n",
       "Rur      164.5  2361.000        3591\n",
       "Erft     106.6  1837.915        7378\n",
       "Ahr       89.0   900.000        4219\n",
       "Wupper   115.8   813.000        5717\n",
       "Ruhr     219.2  4485.000        3499"
      ]
     },
     "execution_count": 54,
     "metadata": {},
     "output_type": "execute_result"
    }
   ],
   "source": [
    "file_ext = \"data/catchments_ext.csv\"\n",
    "\n",
    "df = pd.read_csv(file_ext, index_col=\"river\")\n",
    "df.head()"
   ]
  },
  {
   "cell_type": "markdown",
   "metadata": {},
   "source": [
    "#### 2."
   ]
  },
  {
   "cell_type": "markdown",
   "metadata": {},
   "source": [
    "Merging them all into a single, wider dataframe, we have:"
   ]
  },
  {
   "cell_type": "code",
   "execution_count": 27,
   "metadata": {},
   "outputs": [
    {
     "data": {
      "text/html": [
       "<div>\n",
       "<style scoped>\n",
       "    .dataframe tbody tr th:only-of-type {\n",
       "        vertical-align: middle;\n",
       "    }\n",
       "\n",
       "    .dataframe tbody tr th {\n",
       "        vertical-align: top;\n",
       "    }\n",
       "\n",
       "    .dataframe thead th {\n",
       "        text-align: right;\n",
       "    }\n",
       "</style>\n",
       "<table border=\"1\" class=\"dataframe\">\n",
       "  <thead>\n",
       "    <tr style=\"text-align: right;\">\n",
       "      <th></th>\n",
       "      <th>03499</th>\n",
       "      <th>03591</th>\n",
       "      <th>05717</th>\n",
       "      <th>04219</th>\n",
       "      <th>07378</th>\n",
       "    </tr>\n",
       "    <tr>\n",
       "      <th>mess_datum</th>\n",
       "      <th></th>\n",
       "      <th></th>\n",
       "      <th></th>\n",
       "      <th></th>\n",
       "      <th></th>\n",
       "    </tr>\n",
       "  </thead>\n",
       "  <tbody>\n",
       "    <tr>\n",
       "      <th>2020-02-22 00:00:00+00:00</th>\n",
       "      <td>0.0</td>\n",
       "      <td>0.0</td>\n",
       "      <td>NaN</td>\n",
       "      <td>0.0</td>\n",
       "      <td>0.0</td>\n",
       "    </tr>\n",
       "    <tr>\n",
       "      <th>2020-02-22 01:00:00+00:00</th>\n",
       "      <td>0.0</td>\n",
       "      <td>0.0</td>\n",
       "      <td>NaN</td>\n",
       "      <td>0.0</td>\n",
       "      <td>0.0</td>\n",
       "    </tr>\n",
       "    <tr>\n",
       "      <th>2020-02-22 02:00:00+00:00</th>\n",
       "      <td>0.0</td>\n",
       "      <td>0.0</td>\n",
       "      <td>NaN</td>\n",
       "      <td>0.0</td>\n",
       "      <td>0.0</td>\n",
       "    </tr>\n",
       "    <tr>\n",
       "      <th>2020-02-22 03:00:00+00:00</th>\n",
       "      <td>0.0</td>\n",
       "      <td>0.0</td>\n",
       "      <td>NaN</td>\n",
       "      <td>0.0</td>\n",
       "      <td>0.0</td>\n",
       "    </tr>\n",
       "    <tr>\n",
       "      <th>2020-02-22 04:00:00+00:00</th>\n",
       "      <td>0.0</td>\n",
       "      <td>0.0</td>\n",
       "      <td>NaN</td>\n",
       "      <td>0.0</td>\n",
       "      <td>0.0</td>\n",
       "    </tr>\n",
       "  </tbody>\n",
       "</table>\n",
       "</div>"
      ],
      "text/plain": [
       "                           03499  03591  05717  04219  07378\n",
       "mess_datum                                                  \n",
       "2020-02-22 00:00:00+00:00    0.0    0.0    NaN    0.0    0.0\n",
       "2020-02-22 01:00:00+00:00    0.0    0.0    NaN    0.0    0.0\n",
       "2020-02-22 02:00:00+00:00    0.0    0.0    NaN    0.0    0.0\n",
       "2020-02-22 03:00:00+00:00    0.0    0.0    NaN    0.0    0.0\n",
       "2020-02-22 04:00:00+00:00    0.0    0.0    NaN    0.0    0.0"
      ]
     },
     "execution_count": 27,
     "metadata": {},
     "output_type": "execute_result"
    }
   ],
   "source": [
    "df_RR = pd.concat([df_r1_03499, df_r1_03591, df_r1_05717, df_r1_04219, df_r1_07378], axis=1)\n",
    "df_RR.head()"
   ]
  },
  {
   "cell_type": "markdown",
   "metadata": {},
   "source": [
    "The dataframe has data since 2020, so, to correct this:"
   ]
  },
  {
   "cell_type": "code",
   "execution_count": 28,
   "metadata": {},
   "outputs": [],
   "source": [
    "df_RR = df_RR[df_RR.index >= date_from]\n",
    "df_RR = df_RR[df_RR.index <= date_to]"
   ]
  },
  {
   "cell_type": "markdown",
   "metadata": {},
   "source": [
    "Checking the data:"
   ]
  },
  {
   "cell_type": "code",
   "execution_count": 30,
   "metadata": {},
   "outputs": [
    {
     "data": {
      "text/html": [
       "<div>\n",
       "<style scoped>\n",
       "    .dataframe tbody tr th:only-of-type {\n",
       "        vertical-align: middle;\n",
       "    }\n",
       "\n",
       "    .dataframe tbody tr th {\n",
       "        vertical-align: top;\n",
       "    }\n",
       "\n",
       "    .dataframe thead th {\n",
       "        text-align: right;\n",
       "    }\n",
       "</style>\n",
       "<table border=\"1\" class=\"dataframe\">\n",
       "  <thead>\n",
       "    <tr style=\"text-align: right;\">\n",
       "      <th></th>\n",
       "      <th>03499</th>\n",
       "      <th>03591</th>\n",
       "      <th>05717</th>\n",
       "      <th>04219</th>\n",
       "      <th>07378</th>\n",
       "    </tr>\n",
       "    <tr>\n",
       "      <th>mess_datum</th>\n",
       "      <th></th>\n",
       "      <th></th>\n",
       "      <th></th>\n",
       "      <th></th>\n",
       "      <th></th>\n",
       "    </tr>\n",
       "  </thead>\n",
       "  <tbody>\n",
       "    <tr>\n",
       "      <th>2021-07-12 12:00:00+00:00</th>\n",
       "      <td>0.0</td>\n",
       "      <td>0.0</td>\n",
       "      <td>0.0</td>\n",
       "      <td>0.0</td>\n",
       "      <td>0.0</td>\n",
       "    </tr>\n",
       "    <tr>\n",
       "      <th>2021-07-12 13:00:00+00:00</th>\n",
       "      <td>0.0</td>\n",
       "      <td>0.0</td>\n",
       "      <td>0.0</td>\n",
       "      <td>0.0</td>\n",
       "      <td>0.0</td>\n",
       "    </tr>\n",
       "    <tr>\n",
       "      <th>2021-07-12 14:00:00+00:00</th>\n",
       "      <td>0.0</td>\n",
       "      <td>0.0</td>\n",
       "      <td>0.0</td>\n",
       "      <td>0.0</td>\n",
       "      <td>0.0</td>\n",
       "    </tr>\n",
       "    <tr>\n",
       "      <th>2021-07-12 15:00:00+00:00</th>\n",
       "      <td>0.0</td>\n",
       "      <td>0.0</td>\n",
       "      <td>0.0</td>\n",
       "      <td>0.0</td>\n",
       "      <td>0.0</td>\n",
       "    </tr>\n",
       "    <tr>\n",
       "      <th>2021-07-12 16:00:00+00:00</th>\n",
       "      <td>0.0</td>\n",
       "      <td>0.0</td>\n",
       "      <td>0.0</td>\n",
       "      <td>0.0</td>\n",
       "      <td>0.0</td>\n",
       "    </tr>\n",
       "  </tbody>\n",
       "</table>\n",
       "</div>"
      ],
      "text/plain": [
       "                           03499  03591  05717  04219  07378\n",
       "mess_datum                                                  \n",
       "2021-07-12 12:00:00+00:00    0.0    0.0    0.0    0.0    0.0\n",
       "2021-07-12 13:00:00+00:00    0.0    0.0    0.0    0.0    0.0\n",
       "2021-07-12 14:00:00+00:00    0.0    0.0    0.0    0.0    0.0\n",
       "2021-07-12 15:00:00+00:00    0.0    0.0    0.0    0.0    0.0\n",
       "2021-07-12 16:00:00+00:00    0.0    0.0    0.0    0.0    0.0"
      ]
     },
     "execution_count": 30,
     "metadata": {},
     "output_type": "execute_result"
    }
   ],
   "source": [
    "df_RR.head()"
   ]
  },
  {
   "cell_type": "markdown",
   "metadata": {},
   "source": [
    "#### 3."
   ]
  },
  {
   "cell_type": "markdown",
   "metadata": {},
   "source": [
    "Plotting the data, firstly in a bar chart:"
   ]
  },
  {
   "cell_type": "markdown",
   "metadata": {},
   "source": [
    "(matplotlib.pyplot is being used here only to make a better legend)"
   ]
  },
  {
   "cell_type": "code",
   "execution_count": 36,
   "metadata": {},
   "outputs": [
    {
     "data": {
      "text/plain": [
       "<matplotlib.legend.Legend at 0x21831df3880>"
      ]
     },
     "execution_count": 36,
     "metadata": {},
     "output_type": "execute_result"
    },
    {
     "data": {
      "image/png": "[encoded data removed]",
      "text/plain": [
       "<Figure size 1296x576 with 1 Axes>"
      ]
     },
     "metadata": {
      "needs_background": "light"
     },
     "output_type": "display_data"
    }
   ],
   "source": [
    "import matplotlib.pyplot as plt\n",
    "\n",
    "\n",
    "df_RR.plot.bar(\n",
    "    figsize=(18,8),\n",
    "    grid=True, \n",
    "    color={\n",
    "        '03499': 'red',\n",
    "        '03591': 'green',\n",
    "        '04219': 'orange',\n",
    "        '05717': 'blue',\n",
    "        '07378': 'cyan'\n",
    "    }, \n",
    "    title=\"Precipitation Rate at Five DWD Stations, in Five River Catchments (Ruhr, Rur, Ahr, Wupper, Erft)\",\n",
    "    xlabel=\"Measurement Timestamps\",\n",
    "    ylabel=\"Precipitation Rate in mm/hr\",\n",
    "    width=2\n",
    ")\n",
    "\n",
    "plt.subplots_adjust(bottom=0.3, top=0.973)\n",
    "plt.legend([\n",
    "        'Station 03499 (Ruhr)',\n",
    "        'Station 03591 (Rur)',\n",
    "        'Station 04219 (Ahr)',\n",
    "        'Station 05717 (Wupper)',\n",
    "        'Station 07378 (Erft)'\n",
    "])"
   ]
  },
  {
   "cell_type": "markdown",
   "metadata": {},
   "source": [
    "Now to create a heatmap, with the dates on the x axis, a transpose is needed on the dataframe:"
   ]
  },
  {
   "cell_type": "code",
   "execution_count": 44,
   "metadata": {},
   "outputs": [
    {
     "data": {
      "image/png": "[encoded data removed]",
      "text/plain": [
       "<Figure size 1296x576 with 2 Axes>"
      ]
     },
     "metadata": {
      "needs_background": "light"
     },
     "output_type": "display_data"
    }
   ],
   "source": [
    "import seaborn as sns\n",
    "\n",
    "\n",
    "df_RR_trans = df_RR.transpose()\n",
    "plt.figure(figsize=(18,8))\n",
    "sns.heatmap(df_RR_trans,\n",
    "            cmap='Blues',\n",
    "            cbar_kws={'label': 'Rain Rate in mm/hr'}\n",
    "           )\n",
    "\n",
    "plt.title(\"Heatmap of the Rain Rate in each of the Five Stations\")\n",
    "plt.xlabel(\"Measurement Timestamps\")\n",
    "plt.ylabel(\"Station IDs\")\n",
    "plt.legend(['Station 03499 (Ruhr)',\n",
    "            'Station 03591 (Rur)',\n",
    "            'Station 04219 (Ahr)',\n",
    "            'Station 05717 (Wupper)',\n",
    "            'Station 07378 (Erft)'\n",
    "           ])\n",
    "plt.subplots_adjust(\n",
    "    left=0.265,\n",
    "    right=1\n",
    ")"
   ]
  },
  {
   "cell_type": "code",
   "execution_count": null,
   "metadata": {},
   "outputs": [],
   "source": []
  },
  {
   "cell_type": "markdown",
   "metadata": {},
   "source": [
    "Finding the cumulative precipitation of the five catchment areas through the cumsum() function:"
   ]
  },
  {
   "cell_type": "code",
   "execution_count": 45,
   "metadata": {},
   "outputs": [],
   "source": [
    "cumsum = df_RR.cumsum()"
   ]
  },
  {
   "cell_type": "markdown",
   "metadata": {},
   "source": [
    "Plotting the line graphs for the five cumulative precipitations:"
   ]
  },
  {
   "cell_type": "code",
   "execution_count": 46,
   "metadata": {},
   "outputs": [
    {
     "data": {
      "text/plain": [
       "<matplotlib.legend.Legend at 0x218360a3be0>"
      ]
     },
     "execution_count": 46,
     "metadata": {},
     "output_type": "execute_result"
    },
    {
     "data": {
      "image/png": "[encoded data removed]",
      "text/plain": [
       "<Figure size 864x576 with 1 Axes>"
      ]
     },
     "metadata": {
      "needs_background": "light"
     },
     "output_type": "display_data"
    }
   ],
   "source": [
    "cumsum.plot.line(\n",
    "    figsize=(12,8),\n",
    "    grid=True,\n",
    "    color={\n",
    "        '03499': 'red',\n",
    "        '03591': 'green',\n",
    "        '04219': 'orange',\n",
    "        '05717': 'blue',\n",
    "        '07378': 'cyan'\n",
    "        },\n",
    "        title=\"Cumulative Precipitation in Each of the Five Stations\",\n",
    "        xlabel=\"Measurement Timestamps\",\n",
    "        ylabel=\"Cumulative Precipitation in mm of Rain\"        \n",
    ")\n",
    "\n",
    "plt.legend([\n",
    "        'Station 3499 (Ruhr)',\n",
    "        'Station 3591 (Rur)',\n",
    "        'Station 4219 (Ahr)',\n",
    "        'Station 5717 (Wupper)',\n",
    "        'Station 7378 (Erft)'\n",
    "])"
   ]
  },
  {
   "cell_type": "markdown",
   "metadata": {},
   "source": [
    "As there is some data missing, an interpolation can be done to get a better idea of what the full graph looks like."
   ]
  },
  {
   "cell_type": "code",
   "execution_count": 49,
   "metadata": {},
   "outputs": [
    {
     "data": {
      "text/plain": [
       "<matplotlib.legend.Legend at 0x218368a9fa0>"
      ]
     },
     "execution_count": 49,
     "metadata": {},
     "output_type": "execute_result"
    },
    {
     "data": {
      "image/png": "[encoded data removed]",
      "text/plain": [
       "<Figure size 864x576 with 1 Axes>"
      ]
     },
     "metadata": {
      "needs_background": "light"
     },
     "output_type": "display_data"
    }
   ],
   "source": [
    "cumsum = cumsum.interpolate(method='linear', limit_direction='forward')\n",
    "\n",
    "cumsum.plot.line(\n",
    "    figsize=(12,8),\n",
    "    grid=True,\n",
    "    color={\n",
    "        '03499': 'red',\n",
    "        '03591': 'green',\n",
    "        '04219': 'orange',\n",
    "        '05717': 'blue',\n",
    "        '07378': 'cyan'\n",
    "        },\n",
    "        title=\"Cumulative Precipitation in Each of the Five Stations\",\n",
    "        xlabel=\"Measurement Timestamps\",\n",
    "        ylabel=\"Cumulative Precipitation in mm of Rain\"        \n",
    ")\n",
    "\n",
    "plt.legend([\n",
    "        'Station 3499 (Ruhr)',\n",
    "        'Station 3591 (Rur)',\n",
    "        'Station 4219 (Ahr)',\n",
    "        'Station 5717 (Wupper)',\n",
    "        'Station 7378 (Erft)'\n",
    "])"
   ]
  },
  {
   "cell_type": "markdown",
   "metadata": {},
   "source": [
    "From this information and the analysis of the graph, it can be seen that the rain seems to have started around the 13th of July in the Wupper region, then going a bit stronger to the Erft region, and less badly on the other three catchment areas. After that the rain seems to have increased in all five areas analysed, from July 14th, until the 15th, where it stabilises."
   ]
  },
  {
   "cell_type": "markdown",
   "metadata": {},
   "source": [
    "To add another column to the csv file, with the total precipitation numbers, print the values from cumsum:"
   ]
  },
  {
   "cell_type": "code",
   "execution_count": 50,
   "metadata": {},
   "outputs": [
    {
     "data": {
      "text/html": [
       "<div>\n",
       "<style scoped>\n",
       "    .dataframe tbody tr th:only-of-type {\n",
       "        vertical-align: middle;\n",
       "    }\n",
       "\n",
       "    .dataframe tbody tr th {\n",
       "        vertical-align: top;\n",
       "    }\n",
       "\n",
       "    .dataframe thead th {\n",
       "        text-align: right;\n",
       "    }\n",
       "</style>\n",
       "<table border=\"1\" class=\"dataframe\">\n",
       "  <thead>\n",
       "    <tr style=\"text-align: right;\">\n",
       "      <th></th>\n",
       "      <th>03499</th>\n",
       "      <th>03591</th>\n",
       "      <th>05717</th>\n",
       "      <th>04219</th>\n",
       "      <th>07378</th>\n",
       "    </tr>\n",
       "    <tr>\n",
       "      <th>mess_datum</th>\n",
       "      <th></th>\n",
       "      <th></th>\n",
       "      <th></th>\n",
       "      <th></th>\n",
       "      <th></th>\n",
       "    </tr>\n",
       "  </thead>\n",
       "  <tbody>\n",
       "    <tr>\n",
       "      <th>2021-07-15 08:00:00+00:00</th>\n",
       "      <td>125.5</td>\n",
       "      <td>122.1</td>\n",
       "      <td>155.2</td>\n",
       "      <td>111.8</td>\n",
       "      <td>110.0</td>\n",
       "    </tr>\n",
       "    <tr>\n",
       "      <th>2021-07-15 09:00:00+00:00</th>\n",
       "      <td>125.5</td>\n",
       "      <td>122.1</td>\n",
       "      <td>155.2</td>\n",
       "      <td>111.8</td>\n",
       "      <td>110.0</td>\n",
       "    </tr>\n",
       "    <tr>\n",
       "      <th>2021-07-15 10:00:00+00:00</th>\n",
       "      <td>125.5</td>\n",
       "      <td>122.1</td>\n",
       "      <td>155.2</td>\n",
       "      <td>111.8</td>\n",
       "      <td>110.0</td>\n",
       "    </tr>\n",
       "    <tr>\n",
       "      <th>2021-07-15 11:00:00+00:00</th>\n",
       "      <td>125.5</td>\n",
       "      <td>122.1</td>\n",
       "      <td>155.2</td>\n",
       "      <td>111.8</td>\n",
       "      <td>110.0</td>\n",
       "    </tr>\n",
       "    <tr>\n",
       "      <th>2021-07-15 12:00:00+00:00</th>\n",
       "      <td>125.5</td>\n",
       "      <td>122.1</td>\n",
       "      <td>155.2</td>\n",
       "      <td>111.8</td>\n",
       "      <td>110.0</td>\n",
       "    </tr>\n",
       "  </tbody>\n",
       "</table>\n",
       "</div>"
      ],
      "text/plain": [
       "                           03499  03591  05717  04219  07378\n",
       "mess_datum                                                  \n",
       "2021-07-15 08:00:00+00:00  125.5  122.1  155.2  111.8  110.0\n",
       "2021-07-15 09:00:00+00:00  125.5  122.1  155.2  111.8  110.0\n",
       "2021-07-15 10:00:00+00:00  125.5  122.1  155.2  111.8  110.0\n",
       "2021-07-15 11:00:00+00:00  125.5  122.1  155.2  111.8  110.0\n",
       "2021-07-15 12:00:00+00:00  125.5  122.1  155.2  111.8  110.0"
      ]
     },
     "execution_count": 50,
     "metadata": {},
     "output_type": "execute_result"
    }
   ],
   "source": [
    "cumsum.tail()"
   ]
  },
  {
   "cell_type": "code",
   "execution_count": 108,
   "metadata": {},
   "outputs": [
    {
     "data": {
      "text/html": [
       "<div>\n",
       "<style scoped>\n",
       "    .dataframe tbody tr th:only-of-type {\n",
       "        vertical-align: middle;\n",
       "    }\n",
       "\n",
       "    .dataframe tbody tr th {\n",
       "        vertical-align: top;\n",
       "    }\n",
       "\n",
       "    .dataframe thead th {\n",
       "        text-align: right;\n",
       "    }\n",
       "</style>\n",
       "<table border=\"1\" class=\"dataframe\">\n",
       "  <thead>\n",
       "    <tr style=\"text-align: right;\">\n",
       "      <th></th>\n",
       "      <th>length</th>\n",
       "      <th>area</th>\n",
       "      <th>station_id</th>\n",
       "      <th>cumsum_rr</th>\n",
       "    </tr>\n",
       "    <tr>\n",
       "      <th>river</th>\n",
       "      <th></th>\n",
       "      <th></th>\n",
       "      <th></th>\n",
       "      <th></th>\n",
       "    </tr>\n",
       "  </thead>\n",
       "  <tbody>\n",
       "    <tr>\n",
       "      <th>Rur</th>\n",
       "      <td>164.5</td>\n",
       "      <td>2361.000</td>\n",
       "      <td>3591</td>\n",
       "      <td>122.1</td>\n",
       "    </tr>\n",
       "    <tr>\n",
       "      <th>Erft</th>\n",
       "      <td>106.6</td>\n",
       "      <td>1837.915</td>\n",
       "      <td>7378</td>\n",
       "      <td>110.0</td>\n",
       "    </tr>\n",
       "    <tr>\n",
       "      <th>Ahr</th>\n",
       "      <td>89.0</td>\n",
       "      <td>900.000</td>\n",
       "      <td>4219</td>\n",
       "      <td>111.8</td>\n",
       "    </tr>\n",
       "    <tr>\n",
       "      <th>Wupper</th>\n",
       "      <td>115.8</td>\n",
       "      <td>813.000</td>\n",
       "      <td>5717</td>\n",
       "      <td>155.2</td>\n",
       "    </tr>\n",
       "    <tr>\n",
       "      <th>Ruhr</th>\n",
       "      <td>219.2</td>\n",
       "      <td>4485.000</td>\n",
       "      <td>3499</td>\n",
       "      <td>125.5</td>\n",
       "    </tr>\n",
       "  </tbody>\n",
       "</table>\n",
       "</div>"
      ],
      "text/plain": [
       "        length      area  station_id  cumsum_rr\n",
       "river                                          \n",
       "Rur      164.5  2361.000        3591      122.1\n",
       "Erft     106.6  1837.915        7378      110.0\n",
       "Ahr       89.0   900.000        4219      111.8\n",
       "Wupper   115.8   813.000        5717      155.2\n",
       "Ruhr     219.2  4485.000        3499      125.5"
      ]
     },
     "execution_count": 108,
     "metadata": {},
     "output_type": "execute_result"
    }
   ],
   "source": [
    "file_ext_2 = \"data/catchments_ext_2.csv\"\n",
    "\n",
    "df = pd.read_csv(file_ext_2, index_col=\"river\")\n",
    "df.head()"
   ]
  },
  {
   "cell_type": "markdown",
   "metadata": {},
   "source": [
    "### Comparing this event to typical July historical precipitation"
   ]
  },
  {
   "cell_type": "markdown",
   "metadata": {},
   "source": [
    "#### 1."
   ]
  },
  {
   "cell_type": "markdown",
   "metadata": {},
   "source": [
    "The station to be analysed is Station 5717, which has historical data since 1907, with less unrecorded data throughout the years."
   ]
  },
  {
   "cell_type": "markdown",
   "metadata": {},
   "source": [
    "The data for analysis was downloaded from the DWD website and has to be filtered to meet the timeframe required (1961-1990), and also the month required (July). For that:"
   ]
  },
  {
   "cell_type": "code",
   "execution_count": 109,
   "metadata": {},
   "outputs": [],
   "source": [
    "hist_date_from = pd.to_datetime(\"1961-07-01\")\n",
    "hist_date_to = pd.to_datetime(\"1990-12-01\")"
   ]
  },
  {
   "cell_type": "markdown",
   "metadata": {},
   "source": [
    "A slightly different function, derived from the one contained on the assignment page, needs to be used to properly parse the data in the new dataframe."
   ]
  },
  {
   "cell_type": "code",
   "execution_count": 110,
   "metadata": {},
   "outputs": [],
   "source": [
    "def prec_ts_to_df_hist(filename):\n",
    "    from datetime import datetime\n",
    "    \n",
    "    dateparse = lambda dates: [datetime.strptime(str(d), '%Y%m%d') for d in dates]\n",
    "\n",
    "    df = pd.read_csv(filename, delimiter=\";\", encoding=\"cp1252\", \n",
    "                     index_col=\"MESS_DATUM_BEGINN\", parse_dates = [\"MESS_DATUM_BEGINN\", \"MESS_DATUM_ENDE\"], \n",
    "                     date_parser = dateparse, na_values = [-999.0, -999])\n",
    "    \n",
    "    df.columns = df.columns.str.strip().str.lower().str.replace(' ', '_').str.replace('(', '').str.replace(')', '')\n",
    "    df.index.name = df.index.name.strip().lower().replace(' ', '_').replace('(', '').replace(')', '')\n",
    "    \n",
    "    return(df)"
   ]
  },
  {
   "cell_type": "code",
   "execution_count": 111,
   "metadata": {},
   "outputs": [],
   "source": [
    "path_hist = r\"./data/DWD/historical/monatswerte_KL_05717_19070101_20201231_hist/\"\n",
    "filename_hist = r\"produkt_klima_monat_19070101_20201231_05717.txt\"\n",
    "pfname_hist = path_hist + filename_hist\n",
    "df_hist = prec_ts_to_df_hist(pfname_hist)\n",
    "df_hist = df_hist_5717[['mess_datum_ende','mo_rr']]"
   ]
  },
  {
   "cell_type": "markdown",
   "metadata": {},
   "source": [
    "Checking the dataframe:"
   ]
  },
  {
   "cell_type": "code",
   "execution_count": 112,
   "metadata": {},
   "outputs": [
    {
     "data": {
      "text/html": [
       "<div>\n",
       "<style scoped>\n",
       "    .dataframe tbody tr th:only-of-type {\n",
       "        vertical-align: middle;\n",
       "    }\n",
       "\n",
       "    .dataframe tbody tr th {\n",
       "        vertical-align: top;\n",
       "    }\n",
       "\n",
       "    .dataframe thead th {\n",
       "        text-align: right;\n",
       "    }\n",
       "</style>\n",
       "<table border=\"1\" class=\"dataframe\">\n",
       "  <thead>\n",
       "    <tr style=\"text-align: right;\">\n",
       "      <th></th>\n",
       "      <th>mess_datum_ende</th>\n",
       "      <th>mo_rr</th>\n",
       "    </tr>\n",
       "    <tr>\n",
       "      <th>mess_datum_beginn</th>\n",
       "      <th></th>\n",
       "      <th></th>\n",
       "    </tr>\n",
       "  </thead>\n",
       "  <tbody>\n",
       "    <tr>\n",
       "      <th>1907-01-01</th>\n",
       "      <td>1907-01-31</td>\n",
       "      <td>NaN</td>\n",
       "    </tr>\n",
       "    <tr>\n",
       "      <th>1907-02-01</th>\n",
       "      <td>1907-02-28</td>\n",
       "      <td>NaN</td>\n",
       "    </tr>\n",
       "    <tr>\n",
       "      <th>1907-03-01</th>\n",
       "      <td>1907-03-31</td>\n",
       "      <td>NaN</td>\n",
       "    </tr>\n",
       "    <tr>\n",
       "      <th>1907-04-01</th>\n",
       "      <td>1907-04-30</td>\n",
       "      <td>NaN</td>\n",
       "    </tr>\n",
       "    <tr>\n",
       "      <th>1907-05-01</th>\n",
       "      <td>1907-05-31</td>\n",
       "      <td>NaN</td>\n",
       "    </tr>\n",
       "  </tbody>\n",
       "</table>\n",
       "</div>"
      ],
      "text/plain": [
       "                  mess_datum_ende  mo_rr\n",
       "mess_datum_beginn                       \n",
       "1907-01-01             1907-01-31    NaN\n",
       "1907-02-01             1907-02-28    NaN\n",
       "1907-03-01             1907-03-31    NaN\n",
       "1907-04-01             1907-04-30    NaN\n",
       "1907-05-01             1907-05-31    NaN"
      ]
     },
     "execution_count": 112,
     "metadata": {},
     "output_type": "execute_result"
    }
   ],
   "source": [
    "df_hist.head()"
   ]
  },
  {
   "cell_type": "markdown",
   "metadata": {},
   "source": [
    "Limiting the data from 1961 to 1990:"
   ]
  },
  {
   "cell_type": "code",
   "execution_count": 113,
   "metadata": {},
   "outputs": [],
   "source": [
    "df_hist = df_hist[df_hist.index >= hist_date_from]\n",
    "df_hist = df_hist[df_hist.index <= hist_date_to]"
   ]
  },
  {
   "cell_type": "markdown",
   "metadata": {},
   "source": [
    "Checking:"
   ]
  },
  {
   "cell_type": "code",
   "execution_count": 114,
   "metadata": {},
   "outputs": [
    {
     "data": {
      "text/html": [
       "<div>\n",
       "<style scoped>\n",
       "    .dataframe tbody tr th:only-of-type {\n",
       "        vertical-align: middle;\n",
       "    }\n",
       "\n",
       "    .dataframe tbody tr th {\n",
       "        vertical-align: top;\n",
       "    }\n",
       "\n",
       "    .dataframe thead th {\n",
       "        text-align: right;\n",
       "    }\n",
       "</style>\n",
       "<table border=\"1\" class=\"dataframe\">\n",
       "  <thead>\n",
       "    <tr style=\"text-align: right;\">\n",
       "      <th></th>\n",
       "      <th>mess_datum_ende</th>\n",
       "      <th>mo_rr</th>\n",
       "    </tr>\n",
       "    <tr>\n",
       "      <th>mess_datum_beginn</th>\n",
       "      <th></th>\n",
       "      <th></th>\n",
       "    </tr>\n",
       "  </thead>\n",
       "  <tbody>\n",
       "    <tr>\n",
       "      <th>1961-07-01</th>\n",
       "      <td>1961-07-31</td>\n",
       "      <td>146.9</td>\n",
       "    </tr>\n",
       "    <tr>\n",
       "      <th>1961-08-01</th>\n",
       "      <td>1961-08-31</td>\n",
       "      <td>104.7</td>\n",
       "    </tr>\n",
       "    <tr>\n",
       "      <th>1961-09-01</th>\n",
       "      <td>1961-09-30</td>\n",
       "      <td>82.4</td>\n",
       "    </tr>\n",
       "    <tr>\n",
       "      <th>1961-10-01</th>\n",
       "      <td>1961-10-31</td>\n",
       "      <td>128.6</td>\n",
       "    </tr>\n",
       "    <tr>\n",
       "      <th>1961-11-01</th>\n",
       "      <td>1961-11-30</td>\n",
       "      <td>124.7</td>\n",
       "    </tr>\n",
       "  </tbody>\n",
       "</table>\n",
       "</div>"
      ],
      "text/plain": [
       "                  mess_datum_ende  mo_rr\n",
       "mess_datum_beginn                       \n",
       "1961-07-01             1961-07-31  146.9\n",
       "1961-08-01             1961-08-31  104.7\n",
       "1961-09-01             1961-09-30   82.4\n",
       "1961-10-01             1961-10-31  128.6\n",
       "1961-11-01             1961-11-30  124.7"
      ]
     },
     "execution_count": 114,
     "metadata": {},
     "output_type": "execute_result"
    }
   ],
   "source": [
    "df_hist.head()"
   ]
  },
  {
   "cell_type": "markdown",
   "metadata": {},
   "source": [
    "Now to parse through to get only July values of each year:"
   ]
  },
  {
   "cell_type": "code",
   "execution_count": 115,
   "metadata": {},
   "outputs": [],
   "source": [
    "temp_hist = []\n",
    "\n",
    "for date in df_hist.index:\n",
    "    if date.month == 7:\n",
    "        temp_hist.append(df_hist.loc[date])\n",
    "    \n",
    "    \n",
    "df_july_rr = pd.DataFrame(temp_hist)"
   ]
  },
  {
   "cell_type": "markdown",
   "metadata": {},
   "source": [
    "Checking the parsing:"
   ]
  },
  {
   "cell_type": "code",
   "execution_count": 116,
   "metadata": {},
   "outputs": [
    {
     "data": {
      "text/html": [
       "<div>\n",
       "<style scoped>\n",
       "    .dataframe tbody tr th:only-of-type {\n",
       "        vertical-align: middle;\n",
       "    }\n",
       "\n",
       "    .dataframe tbody tr th {\n",
       "        vertical-align: top;\n",
       "    }\n",
       "\n",
       "    .dataframe thead th {\n",
       "        text-align: right;\n",
       "    }\n",
       "</style>\n",
       "<table border=\"1\" class=\"dataframe\">\n",
       "  <thead>\n",
       "    <tr style=\"text-align: right;\">\n",
       "      <th></th>\n",
       "      <th>mess_datum_ende</th>\n",
       "      <th>mo_rr</th>\n",
       "    </tr>\n",
       "  </thead>\n",
       "  <tbody>\n",
       "    <tr>\n",
       "      <th>1961-07-01</th>\n",
       "      <td>1961-07-31</td>\n",
       "      <td>146.9</td>\n",
       "    </tr>\n",
       "    <tr>\n",
       "      <th>1962-07-01</th>\n",
       "      <td>1962-07-31</td>\n",
       "      <td>113.7</td>\n",
       "    </tr>\n",
       "    <tr>\n",
       "      <th>1963-07-01</th>\n",
       "      <td>1963-07-31</td>\n",
       "      <td>44.3</td>\n",
       "    </tr>\n",
       "    <tr>\n",
       "      <th>1964-07-01</th>\n",
       "      <td>1964-07-31</td>\n",
       "      <td>48.4</td>\n",
       "    </tr>\n",
       "    <tr>\n",
       "      <th>1965-07-01</th>\n",
       "      <td>1965-07-31</td>\n",
       "      <td>266.1</td>\n",
       "    </tr>\n",
       "  </tbody>\n",
       "</table>\n",
       "</div>"
      ],
      "text/plain": [
       "           mess_datum_ende  mo_rr\n",
       "1961-07-01      1961-07-31  146.9\n",
       "1962-07-01      1962-07-31  113.7\n",
       "1963-07-01      1963-07-31   44.3\n",
       "1964-07-01      1964-07-31   48.4\n",
       "1965-07-01      1965-07-31  266.1"
      ]
     },
     "execution_count": 116,
     "metadata": {},
     "output_type": "execute_result"
    }
   ],
   "source": [
    "df_july_rr.head()"
   ]
  },
  {
   "cell_type": "markdown",
   "metadata": {},
   "source": [
    "Getting the average values from the whole period:"
   ]
  },
  {
   "cell_type": "code",
   "execution_count": 117,
   "metadata": {},
   "outputs": [
    {
     "data": {
      "text/plain": [
       "102.3"
      ]
     },
     "execution_count": 117,
     "metadata": {},
     "output_type": "execute_result"
    }
   ],
   "source": [
    "max_cumsum = df_july_rr['mo_rr'].cumsum().iloc[-1]\n",
    "avg_rr = max_cumsum / len(df_july_rr)\n",
    "avg_rr"
   ]
  },
  {
   "cell_type": "markdown",
   "metadata": {},
   "source": [
    "With the average rainfall in this whole period, we can get the ratio of event and normal precipitation, as follows:"
   ]
  },
  {
   "cell_type": "code",
   "execution_count": 118,
   "metadata": {},
   "outputs": [
    {
     "data": {
      "text/plain": [
       "12"
      ]
     },
     "execution_count": 118,
     "metadata": {},
     "output_type": "execute_result"
    }
   ],
   "source": [
    "temp_list = []\n",
    "\n",
    "for value in df_july_rr['mo_rr']:\n",
    "    if value > avg_rr:\n",
    "        temp_list.append(value)\n",
    "        \n",
    "len(temp_list)"
   ]
  },
  {
   "cell_type": "markdown",
   "metadata": {},
   "source": [
    "Ratio would then be events divided by total:"
   ]
  },
  {
   "cell_type": "code",
   "execution_count": 119,
   "metadata": {
    "scrolled": true
   },
   "outputs": [
    {
     "data": {
      "text/plain": [
       "0.4"
      ]
     },
     "execution_count": 119,
     "metadata": {},
     "output_type": "execute_result"
    }
   ],
   "source": [
    "ratio = len(temp_list) / len(df_july_rr)\n",
    "ratio"
   ]
  },
  {
   "cell_type": "markdown",
   "metadata": {},
   "source": [
    "#### 2."
   ]
  },
  {
   "cell_type": "markdown",
   "metadata": {},
   "source": [
    "For the annual precipitation analysis, another function was created, as can be seen below:"
   ]
  },
  {
   "cell_type": "code",
   "execution_count": 120,
   "metadata": {},
   "outputs": [],
   "source": [
    "def get_desired_year(df, year, year_list):\n",
    "\n",
    "    for date in df.index:\n",
    "        if date.year == year:\n",
    "            year_list.append(df['mo_rr'].loc[date])\n",
    "\n",
    "    return year_list"
   ]
  },
  {
   "cell_type": "markdown",
   "metadata": {},
   "source": [
    "This function needs to be called for every one of the thirty years of the time frame."
   ]
  },
  {
   "cell_type": "code",
   "execution_count": 121,
   "metadata": {},
   "outputs": [
    {
     "data": {
      "text/plain": [
       "[117.7, 124.7, 45.3, 76.4, 19.6, 206.9, 52.9, 118.9, 95.4, 48.2, 112.3, 133.5]"
      ]
     },
     "execution_count": 121,
     "metadata": {},
     "output_type": "execute_result"
    }
   ],
   "source": [
    "list1961 = []\n",
    "get_desired_year(df_hist, 1961, list1961)\n",
    "list1962 = []\n",
    "get_desired_year(df_hist, 1962, list1962)\n",
    "list1963 = []\n",
    "get_desired_year(df_hist, 1963, list1963)\n",
    "list1964 = []\n",
    "get_desired_year(df_hist, 1964, list1964)\n",
    "list1965 = []\n",
    "get_desired_year(df_hist, 1965, list1965)\n",
    "list1966 = []\n",
    "get_desired_year(df_hist, 1966, list1966)\n",
    "list1967 = []\n",
    "get_desired_year(df_hist, 1967, list1967)\n",
    "list1968 = []\n",
    "get_desired_year(df_hist, 1968, list1968)\n",
    "list1969 = []\n",
    "get_desired_year(df_hist, 1969, list1969)\n",
    "list1970 = []\n",
    "get_desired_year(df_hist, 1970, list1970)\n",
    "list1971 = []\n",
    "get_desired_year(df_hist, 1971, list1971)\n",
    "list1972 = []\n",
    "get_desired_year(df_hist, 1972, list1972)\n",
    "list1973 = []\n",
    "get_desired_year(df_hist, 1973, list1973)\n",
    "list1974 = []\n",
    "get_desired_year(df_hist, 1974, list1974)\n",
    "list1975 = []\n",
    "get_desired_year(df_hist, 1975, list1975)\n",
    "list1976 = []\n",
    "get_desired_year(df_hist, 1976, list1976)\n",
    "list1977 = []\n",
    "get_desired_year(df_hist, 1977, list1977)\n",
    "list1978 = []\n",
    "get_desired_year(df_hist, 1978, list1978)\n",
    "list1979 = []\n",
    "get_desired_year(df_hist, 1979, list1979)\n",
    "list1980 = []\n",
    "get_desired_year(df_hist, 1980, list1980)\n",
    "list1981 = []\n",
    "get_desired_year(df_hist, 1981, list1981)\n",
    "list1982 = []\n",
    "get_desired_year(df_hist, 1982, list1982)\n",
    "list1983 = []\n",
    "get_desired_year(df_hist, 1983, list1983)\n",
    "list1984 = []\n",
    "get_desired_year(df_hist, 1984, list1984)\n",
    "list1985 = []\n",
    "get_desired_year(df_hist, 1985, list1985)\n",
    "list1986 = []\n",
    "get_desired_year(df_hist, 1986, list1986)\n",
    "list1987 = []\n",
    "get_desired_year(df_hist, 1987, list1987)\n",
    "list1988 = []\n",
    "get_desired_year(df_hist, 1988, list1988)\n",
    "list1989 = []\n",
    "get_desired_year(df_hist, 1989, list1989)\n",
    "list1990 = []\n",
    "get_desired_year(df_hist, 1990, list1990)"
   ]
  },
  {
   "cell_type": "markdown",
   "metadata": {},
   "source": [
    "Checking:"
   ]
  },
  {
   "cell_type": "code",
   "execution_count": 122,
   "metadata": {},
   "outputs": [
    {
     "data": {
      "text/plain": [
       "[146.9, 104.7, 82.4, 128.6, 124.7, 120.1]"
      ]
     },
     "execution_count": 122,
     "metadata": {},
     "output_type": "execute_result"
    }
   ],
   "source": [
    "list1961"
   ]
  },
  {
   "cell_type": "markdown",
   "metadata": {},
   "source": [
    "On to create a new dataframe with all this data:"
   ]
  },
  {
   "cell_type": "code",
   "execution_count": 123,
   "metadata": {},
   "outputs": [],
   "source": [
    "idx_hist_year = pd.Index([\"1961\", \"1962\",\n",
    "                          \"1963\", \"1964\",\n",
    "                          \"1965\", \"1966\",\n",
    "                          \"1967\", \"1968\",\n",
    "                          \"1969\", \"1970\",\n",
    "                          \"1971\", \"1972\",\n",
    "                          \"1973\", \"1974\",\n",
    "                          \"1975\", \"1976\",\n",
    "                          \"1977\", \"1978\",\n",
    "                          \"1979\", \"1980\",\n",
    "                          \"1981\", \"1982\",\n",
    "                          \"1983\", \"1984\",\n",
    "                          \"1985\", \"1986\",\n",
    "                          \"1987\", \"1988\",\n",
    "                          \"1989\", \"1990\"\n",
    "                         ],\n",
    "                         name=\"year\"\n",
    "                        )\n",
    "\n",
    "df_hist_year = pd.DataFrame([list1961, list1962,\n",
    "                             list1963, list1964, \n",
    "                             list1965, list1966,\n",
    "                             list1967, list1968,\n",
    "                             list1969, list1970,\n",
    "                             list1971, list1972,\n",
    "                             list1973, list1974,\n",
    "                             list1975, list1976,\n",
    "                             list1977, list1978,\n",
    "                             list1979, list1980,\n",
    "                             list1981, list1982,\n",
    "                             list1983, list1984,\n",
    "                             list1985, list1986,\n",
    "                             list1987, list1988,\n",
    "                             list1989, list1990 \n",
    "                            ], \n",
    "                            index=idx_hist_year,\n",
    "                            columns=[\n",
    "                                \"January\", \"February\",\n",
    "                                \"March\", \"April\",\n",
    "                                \"May\", \"June\",\n",
    "                                \"July\", \"August\",\n",
    "                                \"September\", \"October\",\n",
    "                                \"November\", \"December\"\n",
    "                            ])"
   ]
  },
  {
   "cell_type": "markdown",
   "metadata": {},
   "source": [
    "Verifying the newly created dataframe:"
   ]
  },
  {
   "cell_type": "code",
   "execution_count": 124,
   "metadata": {},
   "outputs": [
    {
     "data": {
      "text/html": [
       "<div>\n",
       "<style scoped>\n",
       "    .dataframe tbody tr th:only-of-type {\n",
       "        vertical-align: middle;\n",
       "    }\n",
       "\n",
       "    .dataframe tbody tr th {\n",
       "        vertical-align: top;\n",
       "    }\n",
       "\n",
       "    .dataframe thead th {\n",
       "        text-align: right;\n",
       "    }\n",
       "</style>\n",
       "<table border=\"1\" class=\"dataframe\">\n",
       "  <thead>\n",
       "    <tr style=\"text-align: right;\">\n",
       "      <th></th>\n",
       "      <th>January</th>\n",
       "      <th>February</th>\n",
       "      <th>March</th>\n",
       "      <th>April</th>\n",
       "      <th>May</th>\n",
       "      <th>June</th>\n",
       "      <th>July</th>\n",
       "      <th>August</th>\n",
       "      <th>September</th>\n",
       "      <th>October</th>\n",
       "      <th>November</th>\n",
       "      <th>December</th>\n",
       "    </tr>\n",
       "    <tr>\n",
       "      <th>year</th>\n",
       "      <th></th>\n",
       "      <th></th>\n",
       "      <th></th>\n",
       "      <th></th>\n",
       "      <th></th>\n",
       "      <th></th>\n",
       "      <th></th>\n",
       "      <th></th>\n",
       "      <th></th>\n",
       "      <th></th>\n",
       "      <th></th>\n",
       "      <th></th>\n",
       "    </tr>\n",
       "  </thead>\n",
       "  <tbody>\n",
       "    <tr>\n",
       "      <th>1961</th>\n",
       "      <td>146.9</td>\n",
       "      <td>104.7</td>\n",
       "      <td>82.4</td>\n",
       "      <td>128.6</td>\n",
       "      <td>124.7</td>\n",
       "      <td>120.1</td>\n",
       "      <td>NaN</td>\n",
       "      <td>NaN</td>\n",
       "      <td>NaN</td>\n",
       "      <td>NaN</td>\n",
       "      <td>NaN</td>\n",
       "      <td>NaN</td>\n",
       "    </tr>\n",
       "    <tr>\n",
       "      <th>1962</th>\n",
       "      <td>103.3</td>\n",
       "      <td>116.7</td>\n",
       "      <td>76.2</td>\n",
       "      <td>108.9</td>\n",
       "      <td>119.3</td>\n",
       "      <td>29.2</td>\n",
       "      <td>113.7</td>\n",
       "      <td>98.3</td>\n",
       "      <td>83.1</td>\n",
       "      <td>25.1</td>\n",
       "      <td>42.4</td>\n",
       "      <td>139.9</td>\n",
       "    </tr>\n",
       "    <tr>\n",
       "      <th>1963</th>\n",
       "      <td>41.4</td>\n",
       "      <td>19.5</td>\n",
       "      <td>87.3</td>\n",
       "      <td>52.9</td>\n",
       "      <td>74.5</td>\n",
       "      <td>126.1</td>\n",
       "      <td>44.3</td>\n",
       "      <td>91.8</td>\n",
       "      <td>98.1</td>\n",
       "      <td>79.0</td>\n",
       "      <td>106.0</td>\n",
       "      <td>24.5</td>\n",
       "    </tr>\n",
       "    <tr>\n",
       "      <th>1964</th>\n",
       "      <td>48.8</td>\n",
       "      <td>56.4</td>\n",
       "      <td>46.2</td>\n",
       "      <td>78.8</td>\n",
       "      <td>44.8</td>\n",
       "      <td>66.2</td>\n",
       "      <td>48.4</td>\n",
       "      <td>75.3</td>\n",
       "      <td>75.3</td>\n",
       "      <td>105.7</td>\n",
       "      <td>137.5</td>\n",
       "      <td>99.7</td>\n",
       "    </tr>\n",
       "    <tr>\n",
       "      <th>1965</th>\n",
       "      <td>143.2</td>\n",
       "      <td>36.4</td>\n",
       "      <td>74.5</td>\n",
       "      <td>147.1</td>\n",
       "      <td>104.8</td>\n",
       "      <td>101.8</td>\n",
       "      <td>266.1</td>\n",
       "      <td>82.8</td>\n",
       "      <td>78.9</td>\n",
       "      <td>36.8</td>\n",
       "      <td>117.6</td>\n",
       "      <td>262.8</td>\n",
       "    </tr>\n",
       "  </tbody>\n",
       "</table>\n",
       "</div>"
      ],
      "text/plain": [
       "      January  February  March  April    May   June   July  August  September  \\\n",
       "year                                                                            \n",
       "1961    146.9     104.7   82.4  128.6  124.7  120.1    NaN     NaN        NaN   \n",
       "1962    103.3     116.7   76.2  108.9  119.3   29.2  113.7    98.3       83.1   \n",
       "1963     41.4      19.5   87.3   52.9   74.5  126.1   44.3    91.8       98.1   \n",
       "1964     48.8      56.4   46.2   78.8   44.8   66.2   48.4    75.3       75.3   \n",
       "1965    143.2      36.4   74.5  147.1  104.8  101.8  266.1    82.8       78.9   \n",
       "\n",
       "      October  November  December  \n",
       "year                               \n",
       "1961      NaN       NaN       NaN  \n",
       "1962     25.1      42.4     139.9  \n",
       "1963     79.0     106.0      24.5  \n",
       "1964    105.7     137.5      99.7  \n",
       "1965     36.8     117.6     262.8  "
      ]
     },
     "execution_count": 124,
     "metadata": {},
     "output_type": "execute_result"
    }
   ],
   "source": [
    "df_hist_year.head()"
   ]
  },
  {
   "cell_type": "markdown",
   "metadata": {},
   "source": [
    "Getting the cumulative precipitation of each year and making them into a pandas series. The first year doesn't have all values, so I have to find it manually, instead of just using iloc[-1]."
   ]
  },
  {
   "cell_type": "code",
   "execution_count": 125,
   "metadata": {},
   "outputs": [],
   "source": [
    "avg_hist = pd.Series([df_hist_year.loc[\"1961\"].cumsum().loc[\"June\"],\n",
    "                      df_hist_year.loc[\"1962\"].cumsum().iloc[-1],\n",
    "                      df_hist_year.loc[\"1963\"].cumsum().iloc[-1],\n",
    "                      df_hist_year.loc[\"1964\"].cumsum().iloc[-1],\n",
    "                      df_hist_year.loc[\"1965\"].cumsum().iloc[-1],\n",
    "                      df_hist_year.loc[\"1966\"].cumsum().iloc[-1],\n",
    "                      df_hist_year.loc[\"1967\"].cumsum().iloc[-1],\n",
    "                      df_hist_year.loc[\"1968\"].cumsum().iloc[-1],\n",
    "                      df_hist_year.loc[\"1969\"].cumsum().iloc[-1],\n",
    "                      df_hist_year.loc[\"1970\"].cumsum().iloc[-1],\n",
    "                      df_hist_year.loc[\"1971\"].cumsum().iloc[-1],\n",
    "                      df_hist_year.loc[\"1972\"].cumsum().iloc[-1],\n",
    "                      df_hist_year.loc[\"1973\"].cumsum().iloc[-1],\n",
    "                      df_hist_year.loc[\"1974\"].cumsum().iloc[-1],\n",
    "                      df_hist_year.loc[\"1975\"].cumsum().iloc[-1],\n",
    "                      df_hist_year.loc[\"1976\"].cumsum().iloc[-1],\n",
    "                      df_hist_year.loc[\"1977\"].cumsum().iloc[-1],\n",
    "                      df_hist_year.loc[\"1978\"].cumsum().iloc[-1],\n",
    "                      df_hist_year.loc[\"1979\"].cumsum().iloc[-1],\n",
    "                      df_hist_year.loc[\"1980\"].cumsum().iloc[-1],\n",
    "                      df_hist_year.loc[\"1981\"].cumsum().iloc[-1],\n",
    "                      df_hist_year.loc[\"1982\"].cumsum().iloc[-1],\n",
    "                      df_hist_year.loc[\"1983\"].cumsum().iloc[-1],\n",
    "                      df_hist_year.loc[\"1984\"].cumsum().iloc[-1],\n",
    "                      df_hist_year.loc[\"1985\"].cumsum().iloc[-1],\n",
    "                      df_hist_year.loc[\"1986\"].cumsum().iloc[-1],\n",
    "                      df_hist_year.loc[\"1987\"].cumsum().iloc[-1],\n",
    "                      df_hist_year.loc[\"1988\"].cumsum().iloc[-1],\n",
    "                      df_hist_year.loc[\"1989\"].cumsum().iloc[-1],\n",
    "                      df_hist_year.loc[\"1990\"].cumsum().iloc[-1]\n",
    "                     ])"
   ]
  },
  {
   "cell_type": "markdown",
   "metadata": {},
   "source": [
    "Checking if everything is fine:"
   ]
  },
  {
   "cell_type": "code",
   "execution_count": 126,
   "metadata": {},
   "outputs": [
    {
     "data": {
      "text/plain": [
       "0      707.4\n",
       "1     1056.1\n",
       "2      845.4\n",
       "3      883.1\n",
       "4     1452.8\n",
       "5     1503.1\n",
       "6     1129.9\n",
       "7     1106.9\n",
       "8      984.5\n",
       "9     1351.7\n",
       "10     854.2\n",
       "11     872.2\n",
       "12     954.1\n",
       "13    1317.0\n",
       "14     851.9\n",
       "15     812.8\n",
       "16    1020.8\n",
       "17    1019.6\n",
       "18    1061.0\n",
       "19    1143.7\n",
       "20    1391.0\n",
       "21     997.8\n",
       "22    1081.1\n",
       "23    1295.9\n",
       "24    1186.8\n",
       "25    1286.4\n",
       "26    1230.6\n",
       "27    1256.5\n",
       "28    1010.5\n",
       "29    1151.8\n",
       "dtype: float64"
      ]
     },
     "execution_count": 126,
     "metadata": {},
     "output_type": "execute_result"
    }
   ],
   "source": [
    "avg_hist"
   ]
  },
  {
   "cell_type": "code",
   "execution_count": 127,
   "metadata": {},
   "outputs": [
    {
     "data": {
      "text/plain": [
       "1093.8866666666665"
      ]
     },
     "execution_count": 127,
     "metadata": {},
     "output_type": "execute_result"
    }
   ],
   "source": [
    "avg_hist_rr = (avg_hist.cumsum().iloc[-1]) / len(avg_hist)\n",
    "avg_hist_rr"
   ]
  },
  {
   "cell_type": "markdown",
   "metadata": {},
   "source": [
    "Considering that the average historical value for a year is 1093.89 mm of rain, and on that station the event caused in total 155.20 mm of rain, that means:"
   ]
  },
  {
   "cell_type": "code",
   "execution_count": 128,
   "metadata": {},
   "outputs": [
    {
     "data": {
      "text/plain": [
       "7.04823883161512"
      ]
     },
     "execution_count": 128,
     "metadata": {},
     "output_type": "execute_result"
    }
   ],
   "source": [
    "avg_hist_rr / 155.20"
   ]
  },
  {
   "cell_type": "markdown",
   "metadata": {},
   "source": [
    "It rained in around three days one seventh of the historic mean value."
   ]
  },
  {
   "cell_type": "code",
   "execution_count": null,
   "metadata": {},
   "outputs": [],
   "source": []
  },
  {
   "cell_type": "markdown",
   "metadata": {},
   "source": [
    "### Volume of water accumulated in the catchments during that event"
   ]
  },
  {
   "cell_type": "markdown",
   "metadata": {},
   "source": [
    "A function for calculating volume was created:"
   ]
  },
  {
   "cell_type": "code",
   "execution_count": 129,
   "metadata": {},
   "outputs": [],
   "source": [
    "def vol_rr(area, h):\n",
    "\n",
    "    vol = area * (h / 1000)\n",
    "\n",
    "    return vol"
   ]
  },
  {
   "cell_type": "markdown",
   "metadata": {},
   "source": [
    "Then, to calculate the estimate of rain in $m^3$ for the five catchments:"
   ]
  },
  {
   "cell_type": "code",
   "execution_count": 132,
   "metadata": {},
   "outputs": [
    {
     "name": "stdout",
     "output_type": "stream",
     "text": [
      "288.2781 202.17065 100.61999999999999 126.17759999999998 562.8675\n"
     ]
    }
   ],
   "source": [
    "vol_rr_rur = vol_rr(df['area'].loc['Rur'], df['cumsum_rr'].loc['Rur'])\n",
    "vol_rr_erft = vol_rr(df['area'].loc['Erft'], df['cumsum_rr'].loc['Erft'])\n",
    "vol_rr_ahr = vol_rr(df['area'].loc['Ahr'], df['cumsum_rr'].loc['Ahr'])\n",
    "vol_rr_wupper = vol_rr(df['area'].loc['Wupper'], df['cumsum_rr'].loc['Wupper'])\n",
    "vol_rr_ruhr = vol_rr(df['area'].loc['Ruhr'], df['cumsum_rr'].loc['Ruhr'])\n",
    "\n",
    "print(vol_rr_rur,\n",
    "      vol_rr_erft,\n",
    "      vol_rr_ahr,\n",
    "      vol_rr_wupper,\n",
    "      vol_rr_ruhr)"
   ]
  },
  {
   "cell_type": "markdown",
   "metadata": {},
   "source": [
    "So, 288.28 $m^3$ in the Rur catchment; 202.17 $m^3$ for the Erft catchment; 100.62 $m^3$ for the Ahr catchment; 126.18 $m^3$ for the Wupper catchment and finally, 562.87 $m^3$ for the Ruhr catchment."
   ]
  },
  {
   "cell_type": "code",
   "execution_count": null,
   "metadata": {},
   "outputs": [],
   "source": []
  }
 ],
 "metadata": {
  "kernelspec": {
   "display_name": "Python 3",
   "language": "python",
   "name": "python3"
  },
  "language_info": {
   "codemirror_mode": {
    "name": "ipython",
    "version": 3
   },
   "file_extension": ".py",
   "mimetype": "text/x-python",
   "name": "python",
   "nbconvert_exporter": "python",
   "pygments_lexer": "ipython3",
   "version": "3.8.5"
  }
 },
 "nbformat": 4,
 "nbformat_minor": 4
}
